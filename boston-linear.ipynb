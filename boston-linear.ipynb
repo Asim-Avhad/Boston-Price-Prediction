{
 "cells": [
  {
   "cell_type": "markdown",
   "metadata": {},
   "source": [
    "**Necessary Imports**"
   ]
  },
  {
   "cell_type": "code",
   "execution_count": 1,
   "metadata": {},
   "outputs": [],
   "source": [
    "import numpy as np\n",
    "import pandas as pd\n",
    "import matplotlib.pyplot as plt\n",
    "from sklearn.model_selection import train_test_split\n",
    "from sklearn.preprocessing import StandardScaler\n",
    "from sklearn.metrics import mean_absolute_error, mean_squared_error, r2_score"
   ]
  },
  {
   "cell_type": "markdown",
   "metadata": {},
   "source": [
    "**Read the CSV File**"
   ]
  },
  {
   "cell_type": "code",
   "execution_count": 2,
   "metadata": {},
   "outputs": [],
   "source": [
    "data = pd.read_csv('boston_housing_prices.csv')"
   ]
  },
  {
   "cell_type": "markdown",
   "metadata": {},
   "source": [
    "**Prepare the dataset**"
   ]
  },
  {
   "cell_type": "code",
   "execution_count": 3,
   "metadata": {},
   "outputs": [],
   "source": [
    "X = data.drop('MEDV', axis=1)\n",
    "y = data['MEDV']\n",
    "\n",
    "X_train, X_test, y_train, y_test = train_test_split(X, y, test_size=0.2, random_state=42)\n",
    "\n",
    "scaler = StandardScaler()\n",
    "X_train = scaler.fit_transform(X_train)\n",
    "X_test = scaler.transform(X_test)"
   ]
  },
  {
   "cell_type": "markdown",
   "metadata": {},
   "source": [
    "**Linear Regression Neural Network**"
   ]
  },
  {
   "cell_type": "code",
   "execution_count": 4,
   "metadata": {},
   "outputs": [],
   "source": [
    "class LinearRegressionModel:\n",
    "    def __init__(self, n_x, n_y, learning_rate=0.01):\n",
    "        self.learning_rate = learning_rate\n",
    "        self.parameters = self.initialize_parameters(n_x, n_y)\n",
    "        \n",
    "    def initialize_parameters(self, n_x, n_y):\n",
    "        np.random.seed(42)\n",
    "        W = np.random.randn(n_y, n_x) * 0.01\n",
    "        b = np.zeros((n_y, 1))\n",
    "\n",
    "        parameters = {\"W\": W, \"b\": b}\n",
    "        return parameters\n",
    "\n",
    "    def forward_propagation(self, X):\n",
    "        W = self.parameters['W']\n",
    "        b = self.parameters['b']\n",
    "\n",
    "        Z = np.dot(W, X) + b\n",
    "        A = Z  # Linear activation\n",
    "\n",
    "        cache = {\"Z\": Z, \"A\": A}\n",
    "        return A, cache\n",
    "\n",
    "    def compute_cost(self, A, Y):\n",
    "        m = Y.shape[1]\n",
    "        cost = (1 / (2 * m)) * np.sum(np.square(A - Y))\n",
    "        return cost\n",
    "\n",
    "    def backward_propagation(self, cache, X, Y):\n",
    "        m = X.shape[1]\n",
    "        W = self.parameters['W']\n",
    "        A = cache['A']\n",
    "\n",
    "        dZ = A - Y\n",
    "        dW = (1 / m) * np.dot(dZ, X.T)\n",
    "        db = (1 / m) * np.sum(dZ, axis=1, keepdims=True)\n",
    "\n",
    "        grads = {\"dW\": dW, \"db\": db}\n",
    "        return grads\n",
    "\n",
    "    def update_parameters(self, grads):\n",
    "        W = self.parameters['W']\n",
    "        b = self.parameters['b']\n",
    "\n",
    "        dW = grads['dW']\n",
    "        db = grads['db']\n",
    "\n",
    "        W = W - self.learning_rate * dW\n",
    "        b = b - self.learning_rate * db\n",
    "\n",
    "        self.parameters = {\"W\": W, \"b\": b}\n",
    "\n",
    "    def model(self, X_train, Y_train, num_iterations=1000):\n",
    "        for i in range(num_iterations):\n",
    "            A, cache = self.forward_propagation(X_train)\n",
    "            cost = self.compute_cost(A, Y_train)\n",
    "            grads = self.backward_propagation(cache, X_train, Y_train)\n",
    "            self.update_parameters(grads)\n",
    "\n",
    "            if i % 100 == 0:\n",
    "                print(f\"Cost after iteration {i}: {cost}\")\n",
    "\n",
    "    def predict(self, X):\n",
    "        A, _ = self.forward_propagation(X)\n",
    "        return A\n"
   ]
  },
  {
   "cell_type": "markdown",
   "metadata": {},
   "source": [
    "**Train the Neural Network**"
   ]
  },
  {
   "cell_type": "code",
   "execution_count": 5,
   "metadata": {},
   "outputs": [
    {
     "name": "stdout",
     "output_type": "stream",
     "text": [
      "Cost after iteration 0: 303.3570998781638\n",
      "Cost after iteration 100: 48.09396644500937\n",
      "Cost after iteration 200: 16.39884386689406\n",
      "Cost after iteration 300: 12.01784005626979\n",
      "Cost after iteration 400: 11.321525792047325\n",
      "Cost after iteration 500: 11.151376926373315\n",
      "Cost after iteration 600: 11.072934072307849\n",
      "Cost after iteration 700: 11.021033716208239\n",
      "Cost after iteration 800: 10.982680483151471\n",
      "Cost after iteration 900: 10.9533360728785\n"
     ]
    }
   ],
   "source": [
    "X_train = X_train.T\n",
    "X_test = X_test.T\n",
    "y_train = y_train.to_numpy().reshape(1, -1)\n",
    "y_test = y_test.to_numpy().reshape(1, -1)\n",
    "\n",
    "nn_model = LinearRegressionModel(n_x=X_train.shape[0], n_y=1, learning_rate=0.01)\n",
    "\n",
    "nn_model.model(X_train, y_train, num_iterations=1000)\n",
    "\n",
    "predictions = nn_model.predict(X_test)"
   ]
  },
  {
   "cell_type": "markdown",
   "metadata": {},
   "source": [
    "**Calculate the error**"
   ]
  },
  {
   "cell_type": "code",
   "execution_count": 6,
   "metadata": {},
   "outputs": [
    {
     "name": "stdout",
     "output_type": "stream",
     "text": [
      "Mean Absolute Error (MAE): 3.2112974007519175\n",
      "Mean Squared Error (MSE): 25.352269721478866\n",
      "Root Mean Squared Error (RMSE): 5.035103744857584\n",
      "R-squared (R²): 0.6542893516613821\n"
     ]
    }
   ],
   "source": [
    "y_pred = predictions.flatten()\n",
    "y_true = y_test.flatten()\n",
    "\n",
    "mae = mean_absolute_error(y_true, y_pred)\n",
    "mse = mean_squared_error(y_true, y_pred)\n",
    "rmse = np.sqrt(mse)\n",
    "r2 = r2_score(y_true, y_pred)\n",
    "\n",
    "print(f\"Mean Absolute Error (MAE): {mae}\")\n",
    "print(f\"Mean Squared Error (MSE): {mse}\")\n",
    "print(f\"Root Mean Squared Error (RMSE): {rmse}\")\n",
    "print(f\"R-squared (R²): {r2}\")"
   ]
  },
  {
   "cell_type": "markdown",
   "metadata": {},
   "source": [
    "**OUTPUT - Plotting the graph**"
   ]
  },
  {
   "cell_type": "code",
   "execution_count": 7,
   "metadata": {},
   "outputs": [
    {
     "data": {
      "image/png": "[encoded data removed]",
      "text/plain": [
       "<Figure size 640x480 with 1 Axes>"
      ]
     },
     "metadata": {},
     "output_type": "display_data"
    }
   ],
   "source": [
    "plt.scatter(y_test.flatten(), predictions.flatten(), color='blue', label='Predicted vs Actual')\n",
    "plt.plot([y_test.min(), y_test.max()], [y_test.min(), y_test.max()], color='red', linestyle='--', label='Perfect Fit')\n",
    "plt.xlabel('Actual MEDV prices')\n",
    "plt.ylabel('Predicted MEDV Prices')\n",
    "plt.title('Actual vs Predicted Prices')\n",
    "plt.legend()\n",
    "plt.show()"
   ]
  }
 ],
 "metadata": {
  "kernelspec": {
   "display_name": "Python 3",
   "language": "python",
   "name": "python3"
  },
  "language_info": {
   "codemirror_mode": {
    "name": "ipython",
    "version": 3
   },
   "file_extension": ".py",
   "mimetype": "text/x-python",
   "name": "python",
   "nbconvert_exporter": "python",
   "pygments_lexer": "ipython3",
   "version": "3.12.0"
  }
 },
 "nbformat": 4,
 "nbformat_minor": 2
}
